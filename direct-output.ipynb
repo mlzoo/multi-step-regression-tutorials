{
 "cells": [
  {
   "cell_type": "code",
   "execution_count": null,
   "id": "8f393e89",
   "metadata": {},
   "outputs": [],
   "source": [
    "# !wget https://raw.githubusercontent.com/mlzoo/multi-step-regression-tutorials/main/Raotbl6.csv\n",
    "# !pip install lightgbm"
   ]
  },
  {
   "cell_type": "code",
   "execution_count": null,
   "id": "c99582ce",
   "metadata": {},
   "outputs": [],
   "source": [
    "import pandas as pd\n",
    "import numpy as np\n",
    "import lightgbm as lgb\n",
    "from sklearn.metrics import mean_squared_error\n",
    "from sklearn.multioutput import MultiOutputRegressor\n",
    "\n",
    "df = pd.read_csv('Raotbl6.csv')\n",
    "df['date'] = pd.to_datetime(df['date'])\n",
    "df.index = df['date']\n",
    "df.drop('date', axis=1, inplace=True)"
   ]
  },
  {
   "cell_type": "code",
   "execution_count": null,
   "id": "d131fc8b",
   "metadata": {},
   "outputs": [],
   "source": [
    "# make future targets\n",
    "for i in range(12):\n",
    "    df['rgnp_{}'.format(i)] = df['rgnp'].shift(-i-1)\n",
    "\n",
    "df.dropna(inplace=True)"
   ]
  },
  {
   "cell_type": "code",
   "execution_count": null,
   "id": "3d1f3623",
   "metadata": {},
   "outputs": [],
   "source": [
    "targets = [item for item in df.columns if 'rgnp_' in item]\n",
    "\n",
    "X_train = df.drop(targets, axis=1)[: int(len(df) * 0.8)]\n",
    "y_train = df[targets][: int(len(df) * 0.8)]\n",
    "\n",
    "X_test = df.drop(targets, axis=1)[int(len(df) * 0.8) :]\n",
    "y_test = df[targets][int(len(df) * 0.8) :]\n",
    "\n",
    "model = MultiOutputRegressor(lgb.LGBMRegressor(objective='regression')).fit(X_train, y_train)"
   ]
  },
  {
   "cell_type": "code",
   "execution_count": null,
   "id": "e6d23a5a",
   "metadata": {},
   "outputs": [],
   "source": [
    "pred = pd.DataFrame(model.predict(X_test), columns=targets)\n",
    "pred.index = y_test.index\n",
    "(y_test - pred).abs().mean()"
   ]
  },
  {
   "cell_type": "code",
   "execution_count": null,
   "id": "6bbe91ca",
   "metadata": {},
   "outputs": [],
   "source": []
  },
  {
   "cell_type": "code",
   "execution_count": null,
   "id": "964bfe52",
   "metadata": {},
   "outputs": [],
   "source": []
  },
  {
   "cell_type": "code",
   "execution_count": null,
   "id": "b3c0f197",
   "metadata": {},
   "outputs": [],
   "source": []
  },
  {
   "cell_type": "code",
   "execution_count": null,
   "id": "a0c01a68",
   "metadata": {},
   "outputs": [],
   "source": []
  },
  {
   "cell_type": "code",
   "execution_count": null,
   "id": "82f0a6bf",
   "metadata": {},
   "outputs": [],
   "source": []
  },
  {
   "cell_type": "code",
   "execution_count": null,
   "id": "bd1a2fd4",
   "metadata": {},
   "outputs": [],
   "source": [
    "import pandas as pd\n",
    "from sklearn.model_selection import KFold \n",
    "import lightgbm as lgb\n",
    "\n",
    "from sklearn.metrics import accuracy_score\n",
    "\n",
    "# 训练数据集\n",
    "train = pd.read_csv(...)\n",
    "X_train = train[...]\n",
    "y_train = train[...]\n",
    "\n",
    "# 测试数据集\n",
    "X_test = pd.read_csv(...)\n",
    "\n",
    "\n",
    "# lightgbm参数\n",
    "lgb_params = {\n",
    "      \"objective\": \"xxx\", \n",
    "      \"metric\": \"xxx\", \n",
    "      \"boosting_type\": \"gbdt\",\n",
    "      'early_stopping_rounds': 100,\n",
    "      'learning_rate': 0.01,  \n",
    "      'colsample_bytree':0.9, \n",
    "} \n",
    "\n",
    "# k-flod\n",
    "kf = KFold(n_splits=5)\n",
    "\n",
    "# 存储k-flod中的全部model\n",
    "lgb_models = []\n",
    "\n",
    "# 存储预测结果\n",
    "y_pred = 0\n",
    "\n",
    "for f,(tr_idx,val_idx) in enumerate(kf.split(X_tr_val)):\n",
    "    \n",
    "    # 分割训练集与验证集\n",
    "    X_trn, X_val = X_train.iloc[tr_idx], X_train.iloc[val_idx]\n",
    "    y_trn, y_val = y_train.iloc[tr_idx], train.iloc[val_idx]\n",
    "    \n",
    "    # 生成lightgbm数据集\n",
    "    lgb_train = lgb.Dataset(X_trn,y_trn)\n",
    "    lgb_valid = lgb.Dataset(X_val,y_val)\n",
    "    \n",
    "    # 启动训练\n",
    "    clf = lgb.train(params=lgb_params,  # 训练参数\n",
    "                  train_set=lgb_train, # 训练集\n",
    "                  valid_sets=[lgb_train, lgb_valid], # 衡量性能(训练集+验证集)\n",
    "                  num_boost_round=10000, # 最大round\n",
    "                  verbose_eval=100, # 每100round打印\n",
    "                    )\n",
    "    \n",
    "    y_pred += model_binary.predict(X_test) / 5.0\n",
    "    \n",
    "    lgb_models.append(clf) "
   ]
  }
 ],
 "metadata": {
  "kernelspec": {
   "display_name": "conda_pytorch_p38",
   "language": "python",
   "name": "conda_pytorch_p38"
  },
  "language_info": {
   "codemirror_mode": {
    "name": "ipython",
    "version": 3
   },
   "file_extension": ".py",
   "mimetype": "text/x-python",
   "name": "python",
   "nbconvert_exporter": "python",
   "pygments_lexer": "ipython3",
   "version": "3.8.12"
  }
 },
 "nbformat": 4,
 "nbformat_minor": 5
}
